{
 "cells": [
  {
   "cell_type": "code",
   "execution_count": 1,
   "metadata": {
    "collapsed": true
   },
   "outputs": [
    {
     "name": "stdout",
     "output_type": "stream",
     "text": [
      "x_train (10000, 2)\n",
      "y_train (10000, 1)\n",
      "Coefficient:  [[2.00191917 0.97693507]]\n",
      "Intercept:  [-0.08632169]\n",
      "x_test (5000, 2)\n",
      "y_test (5000, 1)\n",
      "R^2 score on test data:  0.1428101580403489\n",
      "[bnlearn] >Bayesian DAG created.\n",
      "[bnlearn]> Set node properties.\n",
      "[bnlearn] >Plot based on BayesianModel\n"
     ]
    },
    {
     "data": {
      "text/plain": "<Figure size 1080x576 with 1 Axes>",
      "image/png": "[encoded data removed]"
     },
     "metadata": {},
     "output_type": "display_data"
    },
    {
     "name": "stdout",
     "output_type": "stream",
     "text": [
      "[bnlearn] >No CPDs to print. Tip: use bnlearn.plot(DAG) to make a plot.\n",
      "target      A      C      B\n",
      "source                     \n",
      "A       False   True  False\n",
      "C       False  False  False\n",
      "B       False   True  False\n",
      "<class 'pandas.core.frame.DataFrame'>\n",
      "[bnlearn] >Forward sampling for 100 samples..\n"
     ]
    },
    {
     "ename": "Exception",
     "evalue": "[bnlearn] >Error! This is a Bayesian DAG containing only edges, and no CPDs. Tip: you need to specify or learn the CPDs. Try: DAG=bn.parameter_learning.fit(DAG, df). At this point you can make a plot with: bn.plot(DAG).",
     "output_type": "error",
     "traceback": [
      "\u001B[0;31m---------------------------------------------------------------------------\u001B[0m",
      "\u001B[0;31mException\u001B[0m                                 Traceback (most recent call last)",
      "\u001B[0;32m/var/folders/bh/z61cp7g56ys3jgdk7nb17l000000gn/T/ipykernel_6328/3591343834.py\u001B[0m in \u001B[0;36m<module>\u001B[0;34m\u001B[0m\n\u001B[1;32m     79\u001B[0m \u001B[0;31m#model = bn.parameter_learning.fit(DAG, train_data, methodtype='maximumlikelihood')\u001B[0m\u001B[0;34m\u001B[0m\u001B[0;34m\u001B[0m\u001B[0;34m\u001B[0m\u001B[0m\n\u001B[1;32m     80\u001B[0m \u001B[0;34m\u001B[0m\u001B[0m\n\u001B[0;32m---> 81\u001B[0;31m \u001B[0mbn\u001B[0m\u001B[0;34m.\u001B[0m\u001B[0msampling\u001B[0m\u001B[0;34m(\u001B[0m\u001B[0mDAG\u001B[0m\u001B[0;34m,\u001B[0m \u001B[0mn\u001B[0m\u001B[0;34m=\u001B[0m\u001B[0;36m100\u001B[0m\u001B[0;34m)\u001B[0m\u001B[0;34m\u001B[0m\u001B[0;34m\u001B[0m\u001B[0m\n\u001B[0m\u001B[1;32m     82\u001B[0m \u001B[0;34m\u001B[0m\u001B[0m\n\u001B[1;32m     83\u001B[0m \u001B[0;31m# NO TEARS simulation sampling\u001B[0m\u001B[0;34m\u001B[0m\u001B[0;34m\u001B[0m\u001B[0;34m\u001B[0m\u001B[0m\n",
      "\u001B[0;32m~/PycharmProjects/linear_nointeract/venv/lib/python3.8/site-packages/bnlearn/bnlearn.py\u001B[0m in \u001B[0;36msampling\u001B[0;34m(DAG, n, verbose)\u001B[0m\n\u001B[1;32m    349\u001B[0m \u001B[0;34m\u001B[0m\u001B[0m\n\u001B[1;32m    350\u001B[0m     \u001B[0;32mif\u001B[0m \u001B[0mlen\u001B[0m\u001B[0;34m(\u001B[0m\u001B[0mDAG\u001B[0m\u001B[0;34m[\u001B[0m\u001B[0;34m'model'\u001B[0m\u001B[0;34m]\u001B[0m\u001B[0;34m.\u001B[0m\u001B[0mget_cpds\u001B[0m\u001B[0;34m(\u001B[0m\u001B[0;34m)\u001B[0m\u001B[0;34m)\u001B[0m\u001B[0;34m==\u001B[0m\u001B[0;36m0\u001B[0m\u001B[0;34m:\u001B[0m\u001B[0;34m\u001B[0m\u001B[0;34m\u001B[0m\u001B[0m\n\u001B[0;32m--> 351\u001B[0;31m         \u001B[0;32mraise\u001B[0m \u001B[0mException\u001B[0m\u001B[0;34m(\u001B[0m\u001B[0;34m'[bnlearn] >Error! This is a Bayesian DAG containing only edges, and no CPDs. Tip: you need to specify or learn the CPDs. Try: DAG=bn.parameter_learning.fit(DAG, df). At this point you can make a plot with: bn.plot(DAG).'\u001B[0m\u001B[0;34m)\u001B[0m\u001B[0;34m\u001B[0m\u001B[0;34m\u001B[0m\u001B[0m\n\u001B[0m\u001B[1;32m    352\u001B[0m         \u001B[0;32mreturn\u001B[0m\u001B[0;34m\u001B[0m\u001B[0;34m\u001B[0m\u001B[0m\n\u001B[1;32m    353\u001B[0m \u001B[0;34m\u001B[0m\u001B[0m\n",
      "\u001B[0;31mException\u001B[0m: [bnlearn] >Error! This is a Bayesian DAG containing only edges, and no CPDs. Tip: you need to specify or learn the CPDs. Try: DAG=bn.parameter_learning.fit(DAG, df). At this point you can make a plot with: bn.plot(DAG)."
     ]
    }
   ],
   "source": [
    "\n",
    "import bnlearn\n",
    "from notears.linear import notears_linear\n",
    "from sklearn.linear_model import LinearRegression as LinReg\n",
    "from dagsim.baseDS import Graph, Generic\n",
    "from notears import utils\n",
    "import pandas as pd\n",
    "import numpy as np\n",
    "import bnlearn as bn\n",
    "\n",
    "# Definition of Rule or Ground truth to be learned by the program\n",
    "def linear_transformation(params0, params1):\n",
    "    y = 2 * params0 + params1 + 5 * params0 * params1\n",
    "    #1 model with 4 x binary, with binary y with logistic regression\n",
    "    #rank random forest, linear regression\n",
    "    #Hot code categorical examples\n",
    "    #1 - 0-10\n",
    "    #2 - 10-25\n",
    "    return y\n",
    "\n",
    "# Setup procedure for the DAG setup - no interaction\n",
    "def setup_dag():\n",
    "    Prior1 = Generic(name=\"A\", function=np.random.normal)\n",
    "    Prior2 = Generic(name=\"B\", function=np.random.normal)\n",
    "    Node1 = Generic(name=\"C\", function=linear_transformation, arguments={\"params0\": Prior1, \"params1\": Prior2})\n",
    "\n",
    "    listNodes = [Prior1, Prior2, Node1]\n",
    "    my_graph = Graph(\"Linear Regression - Real-world\", listNodes)\n",
    "\n",
    "    # simulate data for training and testing, with study-specific sample sizes\n",
    "    train = my_graph.simulate(num_samples=10000, csv_name=\"train\")\n",
    "    test = my_graph.simulate(num_samples=5000, csv_name=\"test\")\n",
    "\n",
    "setup_dag()\n",
    "\n",
    "# import the saved training data and load it into a numpy array\n",
    "train_data = pd.read_csv(\"train.csv\")\n",
    "x_train = train_data.iloc[:, 0:2].to_numpy().reshape([-1, 2])\n",
    "print(\"x_train\", x_train.shape)\n",
    "y_train = train_data.iloc[:, 2].to_numpy().reshape([-1, 1])\n",
    "print(\"y_train\", y_train.shape)\n",
    "\n",
    "# Sklearn - Construct linear regression model and fit using simulated training data\n",
    "def model_training(x_train, y_train):\n",
    "    LR = LinReg()\n",
    "    reg = LR.fit(x_train, y_train)\n",
    "    reg.score(x_train, y_train)\n",
    "    print(\"Coefficient: \", LR.coef_)\n",
    "    print(\"Intercept: \", LR.intercept_)\n",
    "\n",
    "    # import the saved testing data\n",
    "    test_data = pd.read_csv(\"test.csv\")\n",
    "    x_test = test_data.iloc[:, 0:2].to_numpy().reshape([-1, 2])\n",
    "    print(\"x_test\", x_test.shape)\n",
    "    y_test = test_data.iloc[:, 2].to_numpy().reshape([-1, 1])\n",
    "    print(\"y_test\", y_test.shape)\n",
    "\n",
    "    y_pred = reg.predict(x_test)\n",
    "\n",
    "    # Return the evaluation score (R^2) of the model on the testing data\n",
    "    print(\"R^2 score on test data: \", LR.score(x_test, y_test))\n",
    "\n",
    "model_training(x_train, y_train)\n",
    "\n",
    "#print(x_train)\n",
    "#Delete column row\n",
    "#print(train_data.head)\n",
    "\n",
    "train_data_numpy = train_data.to_numpy()\n",
    "\n",
    "# Bnlearn simulation sampling\n",
    "edges = [('A', 'C'),\n",
    "         ('B', 'C')]\n",
    "DAG = bnlearn.make_DAG(edges)\n",
    "bn.plot(DAG)\n",
    "print(DAG['adjmat'])\n",
    "print(type(train_data))\n",
    "DAG = bn.parameter_learning.fit(DAG, train_data, methodtype='maximumlikelihood')\n",
    "\n",
    "bn.print_CPD(DAG)\n",
    "bn_sample = bn.sampling(DAG, n=100)\n",
    "print(bn_sample)\n",
    "# NO TEARS simulation sampling\n",
    "W_est = notears_linear(train_data_numpy[0:100, 0:3], lambda1=0.1, loss_type='l2')\n",
    "assert utils.is_dag(W_est)\n",
    "np.savetxt('W_est.csv', W_est, delimiter=',')"
   ]
  }
 ],
 "metadata": {
  "kernelspec": {
   "display_name": "Python 3",
   "language": "python",
   "name": "python3"
  },
  "language_info": {
   "codemirror_mode": {
    "name": "ipython",
    "version": 2
   },
   "file_extension": ".py",
   "mimetype": "text/x-python",
   "name": "python",
   "nbconvert_exporter": "python",
   "pygments_lexer": "ipython2",
   "version": "2.7.6"
  }
 },
 "nbformat": 4,
 "nbformat_minor": 0
}
